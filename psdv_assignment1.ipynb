{
 "cells": [
  {
   "cell_type": "code",
   "execution_count": 18,
   "metadata": {},
   "outputs": [
    {
     "name": "stdout",
     "output_type": "stream",
     "text": [
      "[1, 2, 3, 4, 5, 6, 7, 8, 9, 10, 11, 12, 13, 14, 15, 16, 17, 18, 19, 20]\n",
      "sum of even numbers in a list is: 110\n",
      "product of odd numbers in list 654729075\n",
      "mean is : 10.5\n",
      "median is: 10.5\n",
      "standard deviation is: 5.766281297335398\n"
     ]
    }
   ],
   "source": [
    "# question 1\n",
    "a=[i for i in range(1,21)] #creating a list\n",
    "print(a)\n",
    "s=0\n",
    "for i in a: # for finding sum of even numbers\n",
    "    if i%2==0:\n",
    "        s=s+i\n",
    "print(\"sum of even numbers in a list is:\",s) # this is the sum of the even numbers\n",
    "p=1\n",
    "for i in a:\n",
    "    if i%2!=0: # for finding the product of odd numbers\n",
    "        p=p*i\n",
    "print(\"product of odd numbers in list\",p)  # this is the product of the odd numbers\n",
    "q = sum(a)/len(a)\n",
    "print(\"mean is :\",q) # mean\n",
    "median=(a[9]+a[10])/2\n",
    "print(\"median is:\",median) # median\n",
    "s=0\n",
    "for i in a:\n",
    "    s=s+((i-q)**2)/len(a) # standard deviation\n",
    "sd=(s**0.5)\n",
    "print(\"standard deviation is:\",sd)\n"
   ]
  },
  {
   "cell_type": "markdown",
   "metadata": {},
   "source": [
    "2. "
   ]
  },
  {
   "cell_type": "code",
   "execution_count": 3,
   "metadata": {},
   "outputs": [
    {
     "name": "stdout",
     "output_type": "stream",
     "text": [
      "mutable data types are those whose elements can be changed\n",
      "example is lists, dictionaries\n",
      "[1, 2, 3, 4]\n",
      "[1, 2, 3, 4, 7]\n",
      "immutable data types are those whose elements can't be change \n",
      "example is tuple\n",
      "(1, 2, 3, 4)\n",
      "trying to append 7 in tuple\n",
      "updating element of the tuple wwill raise an error\n"
     ]
    }
   ],
   "source": [
    "#mutable data types \n",
    "print(\"mutable data types are those whose elements can be changed\")\n",
    "print(\"example is lists, dictionaries\")\n",
    "l=[1,2,3,4]\n",
    "print(l)\n",
    "l.append(7)\n",
    "print(l)\n",
    "# immutable data types \n",
    "print(\"immutable data types are those whose elements can't be change \")\n",
    "print(\"example is tuple\")\n",
    "t=(1,2,3,4)\n",
    "print(t)\n",
    "try:\n",
    "    print('trying to append 7 in tuple')\n",
    "    t.append(7)\n",
    "    print(\"statement will execute if and only if above statement is correct\")\n",
    "except:\n",
    "    print(\"updating element of the tuple wwill raise an error\")\n"
   ]
  },
  {
   "cell_type": "markdown",
   "metadata": {},
   "source": [
    "4."
   ]
  },
  {
   "cell_type": "code",
   "execution_count": 16,
   "metadata": {},
   "outputs": [
    {
     "name": "stdout",
     "output_type": "stream",
     "text": [
      "[3, 5, 7, 6, 9, 11, 13]\n",
      "[3, 5, 6, 9, 11, 13]\n",
      "[13, 11, 9, 6, 5, 3]\n",
      " mean is: 7.833333333333333\n",
      "median is: 7.5\n"
     ]
    }
   ],
   "source": [
    "list=[3,5,7,9,11,13]\n",
    "list.insert(3,6) # for inserting in a list in 3rd index\n",
    "print(list)\n",
    "list.pop(2) # for deleting the number from the list at index 2\n",
    "print(list)\n",
    "list.reverse() # for reversing the list\n",
    "print(list)\n",
    "q=sum(list)/len(list) # finding mean\n",
    "print(\" mean is:\",q)\n",
    "median=(list[2]+list[3])/2\n",
    "print(\"median is:\",median) # finding median\n"
   ]
  },
  {
   "cell_type": "markdown",
   "metadata": {},
   "source": [
    "19"
   ]
  },
  {
   "cell_type": "code",
   "execution_count": 19,
   "metadata": {},
   "outputs": [
    {
     "name": "stdout",
     "output_type": "stream",
     "text": [
      "[[48 52 10 67 37 13 89 15 12 36 73 37  6 26 16 73 73 63 78 44 55 65 75 94\n",
      "  77 63 18  6 31 71 31 12  4 24 84 61 23 86 87  5 68 47 61 72 50 62 32 58\n",
      "  72 65]]\n"
     ]
    }
   ],
   "source": [
    "import numpy as np\n",
    "a=np.random.randint(1,100,(1,50))\n",
    "print(a)\n"
   ]
  },
  {
   "cell_type": "markdown",
   "metadata": {},
   "source": [
    "23"
   ]
  },
  {
   "cell_type": "code",
   "execution_count": 41,
   "metadata": {},
   "outputs": [
    {
     "name": "stdout",
     "output_type": "stream",
     "text": [
      "125\n",
      "odd\n"
     ]
    }
   ],
   "source": [
    "n = int(input())\n",
    "print(n)\n",
    "if n%2==0:\n",
    "    print('even')\n",
    "else:\n",
    "    print('odd')"
   ]
  },
  {
   "cell_type": "markdown",
   "metadata": {},
   "source": [
    "24"
   ]
  },
  {
   "cell_type": "code",
   "execution_count": 40,
   "metadata": {},
   "outputs": [
    {
     "name": "stdout",
     "output_type": "stream",
     "text": [
      "95\n",
      "A grade\n"
     ]
    }
   ],
   "source": [
    "n=int(input())\n",
    "print(n)\n",
    "if n>=90:\n",
    "    print(\"A grade\")\n",
    "elif 80<=n<90:\n",
    "    print(\"B grade\")\n",
    "elif 60<=n<80:\n",
    "    print(\"C grade\")\n",
    "elif 40<=n<60:\n",
    "    print(\"D grade\")\n",
    "else:\n",
    "    print(\"F grade\")"
   ]
  },
  {
   "cell_type": "markdown",
   "metadata": {},
   "source": [
    "25"
   ]
  },
  {
   "cell_type": "code",
   "execution_count": 16,
   "metadata": {},
   "outputs": [
    {
     "name": "stdout",
     "output_type": "stream",
     "text": [
      "3006\n",
      "it is not a leap year\n"
     ]
    }
   ],
   "source": [
    "n=int(input())\n",
    "print(n)\n",
    "if n%4==0: \n",
    "    print(\"it is a leap year\")\n",
    "else:\n",
    "    print(\"it is not a leap year\")"
   ]
  },
  {
   "cell_type": "markdown",
   "metadata": {},
   "source": [
    "8"
   ]
  },
  {
   "cell_type": "code",
   "execution_count": 44,
   "metadata": {},
   "outputs": [
    {
     "ename": "ModuleNotFoundError",
     "evalue": "No module named 'matplotlib'",
     "output_type": "error",
     "traceback": [
      "\u001b[1;31m---------------------------------------------------------------------------\u001b[0m",
      "\u001b[1;31mModuleNotFoundError\u001b[0m                       Traceback (most recent call last)",
      "Cell \u001b[1;32mIn[44], line 1\u001b[0m\n\u001b[1;32m----> 1\u001b[0m \u001b[38;5;28;01mimport\u001b[39;00m \u001b[38;5;21;01mmatplotlib\u001b[39;00m\u001b[38;5;21;01m.\u001b[39;00m\u001b[38;5;21;01mpyplot\u001b[39;00m \u001b[38;5;28;01mas\u001b[39;00m \u001b[38;5;21;01mplt\u001b[39;00m\n\u001b[0;32m      3\u001b[0m \u001b[38;5;66;03m# Create a list of tuples with numbers and their squares\u001b[39;00m\n\u001b[0;32m      4\u001b[0m numbers_and_squares \u001b[38;5;241m=\u001b[39m [(x, x\u001b[38;5;241m*\u001b[39m\u001b[38;5;241m*\u001b[39m\u001b[38;5;241m2\u001b[39m) \u001b[38;5;28;01mfor\u001b[39;00m x \u001b[38;5;129;01min\u001b[39;00m \u001b[38;5;28mrange\u001b[39m(\u001b[38;5;241m1\u001b[39m, \u001b[38;5;241m11\u001b[39m)]\n",
      "\u001b[1;31mModuleNotFoundError\u001b[0m: No module named 'matplotlib'"
     ]
    }
   ],
   "source": [
    "import matplotlib.pyplot as plt\n",
    "\n",
    "# Create a list of tuples with numbers and their squares\n",
    "numbers_and_squares = [(x, x**2) for x in range(1, 11)]\n",
    "\n",
    "# Separate the numbers and their squares for plotting\n",
    "numbers = [x[0] for x in numbers_and_squares]\n",
    "squares = [x[1] for x in numbers_and_squares]\n",
    "\n",
    "# Plot the numbers and their squares on a scatter plot\n",
    "plt.scatter(numbers, squares, color='blue', label='Number vs Square')\n",
    "plt.xlabel('Number')\n",
    "plt.ylabel('Square')\n",
    "\n"
   ]
  },
  {
   "cell_type": "markdown",
   "metadata": {},
   "source": [
    "3"
   ]
  },
  {
   "cell_type": "code",
   "execution_count": 7,
   "metadata": {},
   "outputs": [
    {
     "data": {
      "text/plain": [
       "[0,\n",
       " 1,\n",
       " 1,\n",
       " 2,\n",
       " 3,\n",
       " 5,\n",
       " 8,\n",
       " 13,\n",
       " 21,\n",
       " 34,\n",
       " 55,\n",
       " 89,\n",
       " 144,\n",
       " 233,\n",
       " 377,\n",
       " 610,\n",
       " 987,\n",
       " 1597,\n",
       " 2584,\n",
       " 4181,\n",
       " 6765,\n",
       " 10946,\n",
       " 17711,\n",
       " 28657,\n",
       " 46368,\n",
       " 75025,\n",
       " 121393,\n",
       " 196418,\n",
       " 317811,\n",
       " 514229,\n",
       " 832040,\n",
       " 1346269,\n",
       " 2178309,\n",
       " 3524578,\n",
       " 5702887,\n",
       " 9227465,\n",
       " 14930352,\n",
       " 24157817,\n",
       " 39088169,\n",
       " 63245986,\n",
       " 102334155,\n",
       " 165580141,\n",
       " 267914296,\n",
       " 433494437,\n",
       " 701408733,\n",
       " 1134903170,\n",
       " 1836311903,\n",
       " 2971215073,\n",
       " 4807526976,\n",
       " 7778742049]"
      ]
     },
     "execution_count": 7,
     "metadata": {},
     "output_type": "execute_result"
    }
   ],
   "source": [
    "def f(n):\n",
    "    f=[0,1]\n",
    "    a=0;b=1\n",
    "    for i in range(2,n):\n",
    "        c=a+b\n",
    "        f.append(c)\n",
    "        a=b\n",
    "        b=c\n",
    "    return f\n",
    "f(50)"
   ]
  },
  {
   "cell_type": "markdown",
   "metadata": {},
   "source": [
    "6"
   ]
  },
  {
   "cell_type": "code",
   "execution_count": 8,
   "metadata": {},
   "outputs": [
    {
     "name": "stdout",
     "output_type": "stream",
     "text": [
      "True\n"
     ]
    }
   ],
   "source": [
    "string=\"A man a plan a canal Panama\"\n",
    "str=string.replace(\" \",\"\").lower()\n",
    "if str==str[::-1]:\n",
    "    print(\"True\")\n",
    "else:\n",
    "    print(\"False\")"
   ]
  },
  {
   "cell_type": "markdown",
   "metadata": {},
   "source": [
    "9"
   ]
  },
  {
   "cell_type": "code",
   "execution_count": 10,
   "metadata": {},
   "outputs": [
    {
     "name": "stdout",
     "output_type": "stream",
     "text": [
      "{'a': 10, 'b': 25, 'c': 15}\n"
     ]
    }
   ],
   "source": [
    "d1={'a':10,'b':20}\n",
    "d2={'b':5,'c':15}\n",
    "merged=d1.copy()\n",
    "for key, value in d2.items():\n",
    "    if key in merged:\n",
    "        merged[key]+= value\n",
    "    else:\n",
    "        merged[key]=value\n",
    "print(merged)"
   ]
  },
  {
   "cell_type": "markdown",
   "metadata": {},
   "source": [
    "21"
   ]
  },
  {
   "cell_type": "code",
   "execution_count": 14,
   "metadata": {},
   "outputs": [
    {
     "name": "stdout",
     "output_type": "stream",
     "text": [
      "Mean: 28.333333333333332\n",
      "Median: 25.0\n",
      "Mode: 20\n",
      "Standard Deviation: 14.719601443879744\n"
     ]
    }
   ],
   "source": [
    "import statistics\n",
    "\n",
    "def calc_stats(nums):\n",
    "    m = statistics.mean(nums)\n",
    "    med= statistics.median(nums)\n",
    "    mode = statistics.mode(nums)\n",
    "    sd = statistics.stdev(nums)\n",
    "    \n",
    "    return m, med, mode, sd\n",
    "\n",
    "\n",
    "nums = [10, 20, 20, 30, 40, 50]  \n",
    "m, med, mode, sd= calc_stats(nums)\n",
    "\n",
    "print(f\"Mean: {m}\")\n",
    "print(f\"Median: {med}\")\n",
    "print(f\"Mode: {mode}\")\n",
    "print(f\"Standard Deviation: {sd}\")"
   ]
  },
  {
   "cell_type": "markdown",
   "metadata": {},
   "source": [
    "22"
   ]
  },
  {
   "cell_type": "code",
   "execution_count": 15,
   "metadata": {},
   "outputs": [
    {
     "name": "stdout",
     "output_type": "stream",
     "text": [
      "[0.0, 0.3333333333333333, 0.6666666666666666, 1.0]\n"
     ]
    }
   ],
   "source": [
    "def normalize(num):\n",
    "    min_val = min(num)\n",
    "    max_val = max(num)\n",
    "    \n",
    "    return [(n - min_val) / (max_val - min_val) for n in num]\n",
    "\n",
    "num = [10, 20, 30, 40] \n",
    "normalized_num = normalize(num)\n",
    "\n",
    "print(normalized_num)"
   ]
  }
 ],
 "metadata": {
  "kernelspec": {
   "display_name": "Python 3",
   "language": "python",
   "name": "python3"
  },
  "language_info": {
   "codemirror_mode": {
    "name": "ipython",
    "version": 3
   },
   "file_extension": ".py",
   "mimetype": "text/x-python",
   "name": "python",
   "nbconvert_exporter": "python",
   "pygments_lexer": "ipython3",
   "version": "3.12.5"
  }
 },
 "nbformat": 4,
 "nbformat_minor": 2
}
